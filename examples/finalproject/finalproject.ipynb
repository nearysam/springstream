{
 "cells": [
  {
   "cell_type": "code",
   "execution_count": null,
   "metadata": {},
   "outputs": [],
   "source": [
    "import springstream"
   ]
  },
  {
   "cell_type": "code",
   "execution_count": null,
   "metadata": {},
   "outputs": [],
   "source": [
    "m = springstream.Map()\n",
    "m.add_basemap_gui()\n",
    "m.add_zoom_slider()\n",
    "m.add_shp(\"BoatLaunchAccess_1.shp\", name = \"Boat Launch Access\")\n",
    "m.add_shp(\"USACountiesGene_PairwiseClip.shp\", name = \"US SE Counties\")\n",
    "m.add_shp(\"TNPermitBoundaries_Ex.shp\", name= \"TN Fishing Permit Region Boundaries\")\n",
    "m.add_shp(\"FishingAccess_1.shp\", name = \"Fishing Access\")\n",
    "m.add_shp(\"US_SEParks.shp\", name = \"US SE Parks\")\n",
    "m"
   ]
  }
 ],
 "metadata": {
  "kernelspec": {
   "display_name": "geo",
   "language": "python",
   "name": "python3"
  },
  "language_info": {
   "codemirror_mode": {
    "name": "ipython",
    "version": 3
   },
   "file_extension": ".py",
   "mimetype": "text/x-python",
   "name": "python",
   "nbconvert_exporter": "python",
   "pygments_lexer": "ipython3",
   "version": "3.11.7"
  }
 },
 "nbformat": 4,
 "nbformat_minor": 2
}
