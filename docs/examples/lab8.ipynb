{
 "cells": [
  {
   "cell_type": "markdown",
   "metadata": {},
   "source": [
    "[![image](https://colab.research.google.com/assets/colab-badge.svg)](https://githubtocolab.com/nearysam/springstream/blob/main/docs/examples/lab8.ipynb)"
   ]
  },
  {
   "cell_type": "code",
   "execution_count": null,
   "metadata": {},
   "outputs": [],
   "source": [
    "import springstream"
   ]
  },
  {
   "cell_type": "code",
   "execution_count": null,
   "metadata": {},
   "outputs": [],
   "source": [
    "m = springstream.Map()\n",
    "\n",
    "url = \"data:image/png;base64,iVBORw0KGgoAAAANSUhEUgAAAOgAAADZCAMAAAAdUYxCAAAAe1BMVEX/ggD/////iRf/dgD//fn/egD/2sL/ewD/eAD/fgD/gAD/fQD/gwD/2b3/3MP/38j/6Nf/snj/7N7/9u//48//m0n/q2z/lT3/jSj/qGb/vY3/wpf/yqP/z6v/0rb/4sz/pWH/lDr/n1X/8+n/tn//xp3/kTL/oVv/mkZQPqeAAAADqklEQVR4nO3daXeaQBSHcXQcZ3FBBfe1mjR+/09YYtKkVpA7yODcnP9zTvtOOj9ZJGm4iSKEEEIIIYQQQgghhBBCCKEnZ1n1ALTNqur7s99pMarTr7pPbcQLGgEKKKAhByiggIYdoIACGnaAAgpo2AEKKKBhByiggIYdoIACGnaAAgpo2DUDTUaD3W43SJPalp1M9vF+ktCX4B/a2S0XUkulVPZ3+7B9HDtczftaa5n96Z9XMe1FvqHpm1Dm+5+wRonp8BFlOtOy9/UzJtb2tBpPng5N59rcvNDoRbcqM/51u0Fr9LGc6hPaWYr8jVsxPVVhnqYFGzRiXLoYf9A06hW+2Kidu3Ojbg+Pv6n26FnQTcG7//lq8eLqXOq7y9H33zpv0NXdZWXJg5vzrEo2KDbPgL6WObOjzUk6Lz4PvqTb5qEDQdiCHNOdx7L9eZHum4aeFGmr+t4uuGolSUuyxXcjfqDz4svjVYLyUZ+VUg6QLHNsFrotP0E/t/GbBm1TFykGTUI79J8Clq8U55pygn4sqt0klL6uyEoKlHbGX5JFp70PqHHYpKBAiWfoZVVFu9QDdEC6Qn5WNzTSBR8xHqBH4iX3Uu1QM2sK2nE5cuuH2n5T0KHLkVs/NNJpQ9BV+U3pP9UPVevaofmrcjpFPUDNW/5GKkOjaDDs3ha7PV9SP9T245xlDQdutquUzMvtjasfmt2E5EW/ifGTB2iYAQoo0wAFlGmAAso0QAFlGqCAMg1QQJkGKKBMAxRQpgEKKNMABZRpgALKNEABZRqggDINUECZBiigTAMUUKYBCijTAAWUaYoCffYzKzVU9GzgdZV/+U44mSkFOv0BUNLMibHTc31BpkgjJ7b8T1JNmjgxoc51CLbisQnXkQdOhFqPONToxekp4wCjzkqZML9lMGeas9U6877uFjxgn1PK+nJ0ZyjPTW+Md6lVDkMfE4fBMKFVMvbtv3ZsD17pOC/vhanUbYbce0un2SShpJeuzlZrxm+fWr1yd7Zaa83sitSLKk6ejfucvo4xunR0anFjyeQD1SqxJN7g5neaieA/Uq1RerF6eDR0sl5o5TQGq7nM+wBsER1eH9qZ3002h0i8z9UO7Dg24822O6ptpPlHyai73QT23SRJnDzuXhzWTYSsPNy7rC6gTwlQQAEFNIgABRRQQIMIUEABBTSIAP1x0Id+Jdy93Ibie0/5g4b1XxS27a3Avo9tvfVsGUIIIYQQQgghhBBCCCGEEL0/ERJhDzonxWkAAAAASUVORK5CYII=\"\n",
    "bounds= ((35,-83),(36,-84))\n",
    "m.add_image(url, bounds)\n",
    "m.add_layers_control()\n",
    "m"
   ]
  },
  {
   "cell_type": "code",
   "execution_count": null,
   "metadata": {},
   "outputs": [],
   "source": [
    "m = springstream.Map()\n",
    "data = (\"https://github.com/opengeos/data/releases/download/raster/Libya-2023-07-01.tif\")\n",
    "m.add_raster(data, cmap='terrain')\n",
    "m"
   ]
  }
 ],
 "metadata": {
  "kernelspec": {
   "display_name": "geo",
   "language": "python",
   "name": "python3"
  },
  "language_info": {
   "codemirror_mode": {
    "name": "ipython",
    "version": 3
   },
   "file_extension": ".py",
   "mimetype": "text/x-python",
   "name": "python",
   "nbconvert_exporter": "python",
   "pygments_lexer": "ipython3",
   "version": "3.11.7"
  }
 },
 "nbformat": 4,
 "nbformat_minor": 2
}
